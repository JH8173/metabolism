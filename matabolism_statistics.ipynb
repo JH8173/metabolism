{
 "cells": [
  {
   "cell_type": "code",
   "execution_count": 70,
   "metadata": {},
   "outputs": [],
   "source": [
    "import pandas as pd\n",
    "import numpy as np\n",
    "import glob\n",
    "import os\n",
    "path = r\"C:\\Users\\Administrator\\Dropbox\\Metabolism\""
   ]
  },
  {
   "cell_type": "code",
   "execution_count": 71,
   "metadata": {},
   "outputs": [],
   "source": [
    "clinical_information = pd.read_csv(r\"C:\\Users\\Administrator\\Dropbox\\Metabolism\\clinical information.csv\", encoding='utf-8')\n",
    "miR = pd.read_csv(r\"C:\\Users\\Administrator\\Dropbox\\Metabolism\\miR.csv\", encoding='utf-8')\n",
    "mRNA = pd.read_csv(r\"C:\\Users\\Administrator\\Dropbox\\Metabolism\\mRNA.csv\", encoding='utf-8')\n",
    "output_file = (r\"C:\\Users\\Administrator\\Dropbox\\Metabolism\\results.csv\")"
   ]
  },
  {
   "cell_type": "code",
   "execution_count": 72,
   "metadata": {},
   "outputs": [],
   "source": [
    "df_merged_mRNA = pd.merge(mRNA, clinical_information, on=\"ID\", how=\"inner\")"
   ]
  },
  {
   "cell_type": "code",
   "execution_count": 73,
   "metadata": {},
   "outputs": [
    {
     "data": {
      "text/html": [
       "<div>\n",
       "<style scoped>\n",
       "    .dataframe tbody tr th:only-of-type {\n",
       "        vertical-align: middle;\n",
       "    }\n",
       "\n",
       "    .dataframe tbody tr th {\n",
       "        vertical-align: top;\n",
       "    }\n",
       "\n",
       "    .dataframe thead th {\n",
       "        text-align: right;\n",
       "    }\n",
       "</style>\n",
       "<table border=\"1\" class=\"dataframe\">\n",
       "  <thead>\n",
       "    <tr style=\"text-align: right;\">\n",
       "      <th></th>\n",
       "      <th>ID</th>\n",
       "      <th>ABAT</th>\n",
       "      <th>ABCC6P2</th>\n",
       "      <th>ACSM5</th>\n",
       "      <th>ANGPTL4</th>\n",
       "      <th>ANXA1</th>\n",
       "      <th>AQP4</th>\n",
       "      <th>AXL</th>\n",
       "      <th>BEX4</th>\n",
       "      <th>CBX5</th>\n",
       "      <th>...</th>\n",
       "      <th>histology</th>\n",
       "      <th>stage\\n\\n11-Ia\\n12-Ib\\n20-II               \\n21-IIa \\n22-IIb\\n30-III                  \\n31-IIIa \\n32-IIIb\\n40-IV</th>\n",
       "      <th>status_recurrence</th>\n",
       "      <th>date_recurrence</th>\n",
       "      <th>FU status\\n\\n0=alive without ds                     \\n1=alive with recurren ds,                                  \\n2=dead without ds                                   \\n3=dead d/t recurrent ds                        \\n4=dead, unknown                            \\n5= FU loss</th>\n",
       "      <th>date of death or last follow up</th>\n",
       "      <th>OS</th>\n",
       "      <th>OS time</th>\n",
       "      <th>RFS</th>\n",
       "      <th>RFS time</th>\n",
       "    </tr>\n",
       "  </thead>\n",
       "  <tbody>\n",
       "    <tr>\n",
       "      <th>0</th>\n",
       "      <td>BC1</td>\n",
       "      <td>58.09</td>\n",
       "      <td>460.40</td>\n",
       "      <td>34.42</td>\n",
       "      <td>64.54</td>\n",
       "      <td>3622.94</td>\n",
       "      <td>922.95</td>\n",
       "      <td>1131.63</td>\n",
       "      <td>522.79</td>\n",
       "      <td>733.62</td>\n",
       "      <td>...</td>\n",
       "      <td>1.0</td>\n",
       "      <td>11.0</td>\n",
       "      <td>0.0</td>\n",
       "      <td>NaN</td>\n",
       "      <td>0.0</td>\n",
       "      <td>2016-06-07</td>\n",
       "      <td>0.0</td>\n",
       "      <td>2421.0</td>\n",
       "      <td>0.0</td>\n",
       "      <td>2421.0</td>\n",
       "    </tr>\n",
       "    <tr>\n",
       "      <th>1</th>\n",
       "      <td>BC10</td>\n",
       "      <td>15.94</td>\n",
       "      <td>119.15</td>\n",
       "      <td>3.36</td>\n",
       "      <td>51.19</td>\n",
       "      <td>1837.64</td>\n",
       "      <td>139.29</td>\n",
       "      <td>139.29</td>\n",
       "      <td>192.99</td>\n",
       "      <td>256.77</td>\n",
       "      <td>...</td>\n",
       "      <td>1.0</td>\n",
       "      <td>31.0</td>\n",
       "      <td>0.0</td>\n",
       "      <td>NaN</td>\n",
       "      <td>0.0</td>\n",
       "      <td>2018-07-20</td>\n",
       "      <td>0.0</td>\n",
       "      <td>2690.0</td>\n",
       "      <td>0.0</td>\n",
       "      <td>2690.0</td>\n",
       "    </tr>\n",
       "    <tr>\n",
       "      <th>2</th>\n",
       "      <td>BC103</td>\n",
       "      <td>42.49</td>\n",
       "      <td>102.76</td>\n",
       "      <td>10.87</td>\n",
       "      <td>60.27</td>\n",
       "      <td>2143.06</td>\n",
       "      <td>342.85</td>\n",
       "      <td>342.85</td>\n",
       "      <td>297.40</td>\n",
       "      <td>342.85</td>\n",
       "      <td>...</td>\n",
       "      <td>1.0</td>\n",
       "      <td>11.0</td>\n",
       "      <td>0.0</td>\n",
       "      <td>NaN</td>\n",
       "      <td>0.0</td>\n",
       "      <td>2019-09-16</td>\n",
       "      <td>0.0</td>\n",
       "      <td>1152.0</td>\n",
       "      <td>0.0</td>\n",
       "      <td>1152.0</td>\n",
       "    </tr>\n",
       "    <tr>\n",
       "      <th>3</th>\n",
       "      <td>BC106</td>\n",
       "      <td>638.79</td>\n",
       "      <td>3311.23</td>\n",
       "      <td>21.00</td>\n",
       "      <td>75.26</td>\n",
       "      <td>5997.66</td>\n",
       "      <td>1121.83</td>\n",
       "      <td>1121.83</td>\n",
       "      <td>1100.83</td>\n",
       "      <td>1211.08</td>\n",
       "      <td>...</td>\n",
       "      <td>1.0</td>\n",
       "      <td>11.0</td>\n",
       "      <td>0.0</td>\n",
       "      <td>NaN</td>\n",
       "      <td>0.0</td>\n",
       "      <td>2019-09-30</td>\n",
       "      <td>0.0</td>\n",
       "      <td>1131.0</td>\n",
       "      <td>0.0</td>\n",
       "      <td>1131.0</td>\n",
       "    </tr>\n",
       "    <tr>\n",
       "      <th>4</th>\n",
       "      <td>BC107</td>\n",
       "      <td>152.55</td>\n",
       "      <td>1422.69</td>\n",
       "      <td>36.48</td>\n",
       "      <td>59.69</td>\n",
       "      <td>12717.99</td>\n",
       "      <td>1489.02</td>\n",
       "      <td>1489.02</td>\n",
       "      <td>994.89</td>\n",
       "      <td>1435.96</td>\n",
       "      <td>...</td>\n",
       "      <td>1.0</td>\n",
       "      <td>11.0</td>\n",
       "      <td>0.0</td>\n",
       "      <td>NaN</td>\n",
       "      <td>0.0</td>\n",
       "      <td>2019-09-23</td>\n",
       "      <td>0.0</td>\n",
       "      <td>1118.0</td>\n",
       "      <td>0.0</td>\n",
       "      <td>1118.0</td>\n",
       "    </tr>\n",
       "    <tr>\n",
       "      <th>...</th>\n",
       "      <td>...</td>\n",
       "      <td>...</td>\n",
       "      <td>...</td>\n",
       "      <td>...</td>\n",
       "      <td>...</td>\n",
       "      <td>...</td>\n",
       "      <td>...</td>\n",
       "      <td>...</td>\n",
       "      <td>...</td>\n",
       "      <td>...</td>\n",
       "      <td>...</td>\n",
       "      <td>...</td>\n",
       "      <td>...</td>\n",
       "      <td>...</td>\n",
       "      <td>...</td>\n",
       "      <td>...</td>\n",
       "      <td>...</td>\n",
       "      <td>...</td>\n",
       "      <td>...</td>\n",
       "      <td>...</td>\n",
       "      <td>...</td>\n",
       "    </tr>\n",
       "    <tr>\n",
       "      <th>287</th>\n",
       "      <td>NaN</td>\n",
       "      <td>NaN</td>\n",
       "      <td>NaN</td>\n",
       "      <td>NaN</td>\n",
       "      <td>NaN</td>\n",
       "      <td>NaN</td>\n",
       "      <td>NaN</td>\n",
       "      <td>NaN</td>\n",
       "      <td>NaN</td>\n",
       "      <td>NaN</td>\n",
       "      <td>...</td>\n",
       "      <td>NaN</td>\n",
       "      <td>NaN</td>\n",
       "      <td>NaN</td>\n",
       "      <td>NaN</td>\n",
       "      <td>NaN</td>\n",
       "      <td>NaN</td>\n",
       "      <td>NaN</td>\n",
       "      <td>NaN</td>\n",
       "      <td>NaN</td>\n",
       "      <td>NaN</td>\n",
       "    </tr>\n",
       "    <tr>\n",
       "      <th>288</th>\n",
       "      <td>NaN</td>\n",
       "      <td>NaN</td>\n",
       "      <td>NaN</td>\n",
       "      <td>NaN</td>\n",
       "      <td>NaN</td>\n",
       "      <td>NaN</td>\n",
       "      <td>NaN</td>\n",
       "      <td>NaN</td>\n",
       "      <td>NaN</td>\n",
       "      <td>NaN</td>\n",
       "      <td>...</td>\n",
       "      <td>NaN</td>\n",
       "      <td>NaN</td>\n",
       "      <td>NaN</td>\n",
       "      <td>NaN</td>\n",
       "      <td>NaN</td>\n",
       "      <td>NaN</td>\n",
       "      <td>NaN</td>\n",
       "      <td>NaN</td>\n",
       "      <td>NaN</td>\n",
       "      <td>NaN</td>\n",
       "    </tr>\n",
       "    <tr>\n",
       "      <th>289</th>\n",
       "      <td>NaN</td>\n",
       "      <td>NaN</td>\n",
       "      <td>NaN</td>\n",
       "      <td>NaN</td>\n",
       "      <td>NaN</td>\n",
       "      <td>NaN</td>\n",
       "      <td>NaN</td>\n",
       "      <td>NaN</td>\n",
       "      <td>NaN</td>\n",
       "      <td>NaN</td>\n",
       "      <td>...</td>\n",
       "      <td>NaN</td>\n",
       "      <td>NaN</td>\n",
       "      <td>NaN</td>\n",
       "      <td>NaN</td>\n",
       "      <td>NaN</td>\n",
       "      <td>NaN</td>\n",
       "      <td>NaN</td>\n",
       "      <td>NaN</td>\n",
       "      <td>NaN</td>\n",
       "      <td>NaN</td>\n",
       "    </tr>\n",
       "    <tr>\n",
       "      <th>290</th>\n",
       "      <td>NaN</td>\n",
       "      <td>NaN</td>\n",
       "      <td>NaN</td>\n",
       "      <td>NaN</td>\n",
       "      <td>NaN</td>\n",
       "      <td>NaN</td>\n",
       "      <td>NaN</td>\n",
       "      <td>NaN</td>\n",
       "      <td>NaN</td>\n",
       "      <td>NaN</td>\n",
       "      <td>...</td>\n",
       "      <td>NaN</td>\n",
       "      <td>NaN</td>\n",
       "      <td>NaN</td>\n",
       "      <td>NaN</td>\n",
       "      <td>NaN</td>\n",
       "      <td>NaN</td>\n",
       "      <td>NaN</td>\n",
       "      <td>NaN</td>\n",
       "      <td>NaN</td>\n",
       "      <td>NaN</td>\n",
       "    </tr>\n",
       "    <tr>\n",
       "      <th>291</th>\n",
       "      <td>NaN</td>\n",
       "      <td>NaN</td>\n",
       "      <td>NaN</td>\n",
       "      <td>NaN</td>\n",
       "      <td>NaN</td>\n",
       "      <td>NaN</td>\n",
       "      <td>NaN</td>\n",
       "      <td>NaN</td>\n",
       "      <td>NaN</td>\n",
       "      <td>NaN</td>\n",
       "      <td>...</td>\n",
       "      <td>NaN</td>\n",
       "      <td>NaN</td>\n",
       "      <td>NaN</td>\n",
       "      <td>NaN</td>\n",
       "      <td>NaN</td>\n",
       "      <td>NaN</td>\n",
       "      <td>NaN</td>\n",
       "      <td>NaN</td>\n",
       "      <td>NaN</td>\n",
       "      <td>NaN</td>\n",
       "    </tr>\n",
       "  </tbody>\n",
       "</table>\n",
       "<p>292 rows × 72 columns</p>\n",
       "</div>"
      ],
      "text/plain": [
       "        ID    ABAT  ABCC6P2  ACSM5  ANGPTL4     ANXA1     AQP4      AXL  \\\n",
       "0      BC1   58.09   460.40  34.42    64.54   3622.94   922.95  1131.63   \n",
       "1     BC10   15.94   119.15   3.36    51.19   1837.64   139.29   139.29   \n",
       "2    BC103   42.49   102.76  10.87    60.27   2143.06   342.85   342.85   \n",
       "3    BC106  638.79  3311.23  21.00    75.26   5997.66  1121.83  1121.83   \n",
       "4    BC107  152.55  1422.69  36.48    59.69  12717.99  1489.02  1489.02   \n",
       "..     ...     ...      ...    ...      ...       ...      ...      ...   \n",
       "287    NaN     NaN      NaN    NaN      NaN       NaN      NaN      NaN   \n",
       "288    NaN     NaN      NaN    NaN      NaN       NaN      NaN      NaN   \n",
       "289    NaN     NaN      NaN    NaN      NaN       NaN      NaN      NaN   \n",
       "290    NaN     NaN      NaN    NaN      NaN       NaN      NaN      NaN   \n",
       "291    NaN     NaN      NaN    NaN      NaN       NaN      NaN      NaN   \n",
       "\n",
       "        BEX4     CBX5  ...  histology  \\\n",
       "0     522.79   733.62  ...        1.0   \n",
       "1     192.99   256.77  ...        1.0   \n",
       "2     297.40   342.85  ...        1.0   \n",
       "3    1100.83  1211.08  ...        1.0   \n",
       "4     994.89  1435.96  ...        1.0   \n",
       "..       ...      ...  ...        ...   \n",
       "287      NaN      NaN  ...        NaN   \n",
       "288      NaN      NaN  ...        NaN   \n",
       "289      NaN      NaN  ...        NaN   \n",
       "290      NaN      NaN  ...        NaN   \n",
       "291      NaN      NaN  ...        NaN   \n",
       "\n",
       "     stage\\n\\n11-Ia\\n12-Ib\\n20-II               \\n21-IIa \\n22-IIb\\n30-III                  \\n31-IIIa \\n32-IIIb\\n40-IV  \\\n",
       "0                                                 11.0                                                                  \n",
       "1                                                 31.0                                                                  \n",
       "2                                                 11.0                                                                  \n",
       "3                                                 11.0                                                                  \n",
       "4                                                 11.0                                                                  \n",
       "..                                                 ...                                                                  \n",
       "287                                                NaN                                                                  \n",
       "288                                                NaN                                                                  \n",
       "289                                                NaN                                                                  \n",
       "290                                                NaN                                                                  \n",
       "291                                                NaN                                                                  \n",
       "\n",
       "     status_recurrence  date_recurrence  \\\n",
       "0                  0.0              NaN   \n",
       "1                  0.0              NaN   \n",
       "2                  0.0              NaN   \n",
       "3                  0.0              NaN   \n",
       "4                  0.0              NaN   \n",
       "..                 ...              ...   \n",
       "287                NaN              NaN   \n",
       "288                NaN              NaN   \n",
       "289                NaN              NaN   \n",
       "290                NaN              NaN   \n",
       "291                NaN              NaN   \n",
       "\n",
       "     FU status\\n\\n0=alive without ds                     \\n1=alive with recurren ds,                                  \\n2=dead without ds                                   \\n3=dead d/t recurrent ds                        \\n4=dead, unknown                            \\n5= FU loss  \\\n",
       "0                                                  0.0                                                                                                                                                                                                                                   \n",
       "1                                                  0.0                                                                                                                                                                                                                                   \n",
       "2                                                  0.0                                                                                                                                                                                                                                   \n",
       "3                                                  0.0                                                                                                                                                                                                                                   \n",
       "4                                                  0.0                                                                                                                                                                                                                                   \n",
       "..                                                 ...                                                                                                                                                                                                                                   \n",
       "287                                                NaN                                                                                                                                                                                                                                   \n",
       "288                                                NaN                                                                                                                                                                                                                                   \n",
       "289                                                NaN                                                                                                                                                                                                                                   \n",
       "290                                                NaN                                                                                                                                                                                                                                   \n",
       "291                                                NaN                                                                                                                                                                                                                                   \n",
       "\n",
       "     date of death or last follow up   OS  OS time  RFS  RFS time  \n",
       "0                         2016-06-07  0.0   2421.0  0.0    2421.0  \n",
       "1                         2018-07-20  0.0   2690.0  0.0    2690.0  \n",
       "2                         2019-09-16  0.0   1152.0  0.0    1152.0  \n",
       "3                         2019-09-30  0.0   1131.0  0.0    1131.0  \n",
       "4                         2019-09-23  0.0   1118.0  0.0    1118.0  \n",
       "..                               ...  ...      ...  ...       ...  \n",
       "287                              NaN  NaN      NaN  NaN       NaN  \n",
       "288                              NaN  NaN      NaN  NaN       NaN  \n",
       "289                              NaN  NaN      NaN  NaN       NaN  \n",
       "290                              NaN  NaN      NaN  NaN       NaN  \n",
       "291                              NaN  NaN      NaN  NaN       NaN  \n",
       "\n",
       "[292 rows x 72 columns]"
      ]
     },
     "execution_count": 73,
     "metadata": {},
     "output_type": "execute_result"
    }
   ],
   "source": [
    "df_merged_mRNA"
   ]
  },
  {
   "cell_type": "code",
   "execution_count": 74,
   "metadata": {},
   "outputs": [],
   "source": [
    "df_merged_mRNA = df_merged_mRNA.rename(columns={\"'stage\\n\\n11-Ia\\n12-Ib\\n20-II               \\n21-IIa \\n22-IIb\\n30-III                  \\n31-IIIa \\n32-IIIb\\n40-IV\":\"stage\"}, inplace=True)"
   ]
  },
  {
   "cell_type": "code",
   "execution_count": 80,
   "metadata": {},
   "outputs": [
    {
     "ename": "NameError",
     "evalue": "name 'df_describe' is not defined",
     "output_type": "error",
     "traceback": [
      "\u001b[1;31m---------------------------------------------------------------------------\u001b[0m",
      "\u001b[1;31mNameError\u001b[0m                                 Traceback (most recent call last)",
      "\u001b[1;32m<ipython-input-80-9bc501473094>\u001b[0m in \u001b[0;36m<module>\u001b[1;34m\u001b[0m\n\u001b[1;32m----> 1\u001b[1;33m \u001b[0mdf_describe\u001b[0m\u001b[1;33m.\u001b[0m\u001b[0mto_csv\u001b[0m\u001b[1;33m(\u001b[0m\u001b[1;34m\"describe_mRNA.csv\"\u001b[0m\u001b[1;33m,\u001b[0m \u001b[0mmode\u001b[0m\u001b[1;33m=\u001b[0m\u001b[1;34m\"w\"\u001b[0m\u001b[1;33m)\u001b[0m\u001b[1;33m\u001b[0m\u001b[1;33m\u001b[0m\u001b[0m\n\u001b[0m",
      "\u001b[1;31mNameError\u001b[0m: name 'df_describe' is not defined"
     ]
    }
   ],
   "source": [
    "df_describe.to_csv(\"describe_mRNA.csv\", mode=\"w\")"
   ]
  },
  {
   "cell_type": "code",
   "execution_count": 93,
   "metadata": {},
   "outputs": [
    {
     "data": {
      "text/plain": [
       "Int64Index([  0,   1,   2,   3,   4,   5,   6,   7,   8,   9,\n",
       "            ...\n",
       "            282, 283, 284, 285, 286, 287, 288, 289, 290, 291],\n",
       "           dtype='int64', length=292)"
      ]
     },
     "execution_count": 93,
     "metadata": {},
     "output_type": "execute_result"
    }
   ],
   "source": [
    "df_merged_mRNA.index"
   ]
  },
  {
   "cell_type": "code",
   "execution_count": 79,
   "metadata": {},
   "outputs": [
    {
     "ename": "AttributeError",
     "evalue": "'NoneType' object has no attribute 'columns'",
     "output_type": "error",
     "traceback": [
      "\u001b[1;31m---------------------------------------------------------------------------\u001b[0m",
      "\u001b[1;31mAttributeError\u001b[0m                            Traceback (most recent call last)",
      "\u001b[1;32m<ipython-input-79-5a78df514a41>\u001b[0m in \u001b[0;36m<module>\u001b[1;34m\u001b[0m\n\u001b[1;32m----> 1\u001b[1;33m \u001b[0mdf_merged_mRNA\u001b[0m\u001b[1;33m.\u001b[0m\u001b[0mcolumns\u001b[0m\u001b[1;33m[\u001b[0m\u001b[1;36m0\u001b[0m\u001b[1;33m:\u001b[0m\u001b[1;36m100\u001b[0m\u001b[1;33m]\u001b[0m\u001b[1;33m\u001b[0m\u001b[1;33m\u001b[0m\u001b[0m\n\u001b[0m",
      "\u001b[1;31mAttributeError\u001b[0m: 'NoneType' object has no attribute 'columns'"
     ]
    }
   ],
   "source": [
    "df_merged_mRNA.columns[0:100]"
   ]
  },
  {
   "cell_type": "code",
   "execution_count": 86,
   "metadata": {},
   "outputs": [
    {
     "data": {
      "text/plain": [
       "array([[nan, nan],\n",
       "       [nan, nan]])"
      ]
     },
     "execution_count": 86,
     "metadata": {},
     "output_type": "execute_result"
    }
   ],
   "source": [
    "np.corrcoef(df_merged_mRNA[\"ABCC6P2\"], df_merged_mRNA[\"PFKP\"])"
   ]
  },
  {
   "cell_type": "code",
   "execution_count": 91,
   "metadata": {},
   "outputs": [
    {
     "data": {
      "text/plain": [
       "array([[ 1.        , -0.01889356],\n",
       "       [-0.01889356,  1.        ]])"
      ]
     },
     "execution_count": 91,
     "metadata": {},
     "output_type": "execute_result"
    }
   ],
   "source": [
    "np.corrcoef(df_merged_mRNA[\"ABCC6P2\"].dropna(), df_merged_mRNA[\"OS time\"].dropna())"
   ]
  },
  {
   "cell_type": "code",
   "execution_count": 92,
   "metadata": {},
   "outputs": [
    {
     "data": {
      "text/plain": [
       "array([[ 1.        , -0.08632549],\n",
       "       [-0.08632549,  1.        ]])"
      ]
     },
     "execution_count": 92,
     "metadata": {},
     "output_type": "execute_result"
    }
   ],
   "source": [
    "np.corrcoef(df_merged_mRNA[\"ABAT\"].dropna(), df_merged_mRNA[\"OS time\"].dropna())"
   ]
  },
  {
   "cell_type": "code",
   "execution_count": 96,
   "metadata": {},
   "outputs": [
    {
     "data": {
      "text/plain": [
       "array([[1.        , 0.01887212],\n",
       "       [0.01887212, 1.        ]])"
      ]
     },
     "execution_count": 96,
     "metadata": {},
     "output_type": "execute_result"
    }
   ],
   "source": [
    "np.corrcoef(df_merged_mRNA[\"ACSM5\"].dropna(), df_merged_mRNA[\"OS time\"].dropna())"
   ]
  },
  {
   "cell_type": "code",
   "execution_count": 97,
   "metadata": {},
   "outputs": [
    {
     "data": {
      "text/plain": [
       "array([[ 1.        , -0.05731205],\n",
       "       [-0.05731205,  1.        ]])"
      ]
     },
     "execution_count": 97,
     "metadata": {},
     "output_type": "execute_result"
    }
   ],
   "source": [
    "np.corrcoef(df_merged_mRNA[\"ANGPTL4\"].dropna(), df_merged_mRNA[\"OS time\"].dropna())"
   ]
  },
  {
   "cell_type": "code",
   "execution_count": 111,
   "metadata": {},
   "outputs": [
    {
     "ename": "TypeError",
     "evalue": "unsupported operand type(s) for /: 'str' and 'int'",
     "output_type": "error",
     "traceback": [
      "\u001b[1;31m---------------------------------------------------------------------------\u001b[0m",
      "\u001b[1;31mTypeError\u001b[0m                                 Traceback (most recent call last)",
      "\u001b[1;32m<ipython-input-111-6dadf8cbe624>\u001b[0m in \u001b[0;36m<module>\u001b[1;34m\u001b[0m\n\u001b[0;32m      1\u001b[0m \u001b[1;32mfor\u001b[0m \u001b[0mg\u001b[0m \u001b[1;32min\u001b[0m \u001b[0mdf_merged_mRNA\u001b[0m\u001b[1;33m.\u001b[0m\u001b[0mcolumns\u001b[0m\u001b[1;33m:\u001b[0m\u001b[1;33m\u001b[0m\u001b[1;33m\u001b[0m\u001b[0m\n\u001b[1;32m----> 2\u001b[1;33m     \u001b[0mnp\u001b[0m\u001b[1;33m.\u001b[0m\u001b[0mcorrcoef\u001b[0m\u001b[1;33m(\u001b[0m\u001b[0mdf_merged_mRNA\u001b[0m\u001b[1;33m[\u001b[0m\u001b[0mg\u001b[0m\u001b[1;33m]\u001b[0m\u001b[1;33m.\u001b[0m\u001b[0mdropna\u001b[0m\u001b[1;33m(\u001b[0m\u001b[1;33m)\u001b[0m\u001b[1;33m,\u001b[0m \u001b[0mdf_merged_mRNA\u001b[0m\u001b[1;33m[\u001b[0m\u001b[1;34m\"OS time\"\u001b[0m\u001b[1;33m]\u001b[0m\u001b[1;33m.\u001b[0m\u001b[0mdropna\u001b[0m\u001b[1;33m(\u001b[0m\u001b[1;33m)\u001b[0m\u001b[1;33m)\u001b[0m\u001b[1;33m\u001b[0m\u001b[1;33m\u001b[0m\u001b[0m\n\u001b[0m",
      "\u001b[1;32m<__array_function__ internals>\u001b[0m in \u001b[0;36mcorrcoef\u001b[1;34m(*args, **kwargs)\u001b[0m\n",
      "\u001b[1;32mC:\\Anaconda3\\lib\\site-packages\\numpy\\lib\\function_base.py\u001b[0m in \u001b[0;36mcorrcoef\u001b[1;34m(x, y, rowvar, bias, ddof)\u001b[0m\n\u001b[0;32m   2524\u001b[0m         warnings.warn('bias and ddof have no effect and are deprecated',\n\u001b[0;32m   2525\u001b[0m                       DeprecationWarning, stacklevel=3)\n\u001b[1;32m-> 2526\u001b[1;33m     \u001b[0mc\u001b[0m \u001b[1;33m=\u001b[0m \u001b[0mcov\u001b[0m\u001b[1;33m(\u001b[0m\u001b[0mx\u001b[0m\u001b[1;33m,\u001b[0m \u001b[0my\u001b[0m\u001b[1;33m,\u001b[0m \u001b[0mrowvar\u001b[0m\u001b[1;33m)\u001b[0m\u001b[1;33m\u001b[0m\u001b[1;33m\u001b[0m\u001b[0m\n\u001b[0m\u001b[0;32m   2527\u001b[0m     \u001b[1;32mtry\u001b[0m\u001b[1;33m:\u001b[0m\u001b[1;33m\u001b[0m\u001b[1;33m\u001b[0m\u001b[0m\n\u001b[0;32m   2528\u001b[0m         \u001b[0md\u001b[0m \u001b[1;33m=\u001b[0m \u001b[0mdiag\u001b[0m\u001b[1;33m(\u001b[0m\u001b[0mc\u001b[0m\u001b[1;33m)\u001b[0m\u001b[1;33m\u001b[0m\u001b[1;33m\u001b[0m\u001b[0m\n",
      "\u001b[1;32m<__array_function__ internals>\u001b[0m in \u001b[0;36mcov\u001b[1;34m(*args, **kwargs)\u001b[0m\n",
      "\u001b[1;32mC:\\Anaconda3\\lib\\site-packages\\numpy\\lib\\function_base.py\u001b[0m in \u001b[0;36mcov\u001b[1;34m(m, y, rowvar, bias, ddof, fweights, aweights)\u001b[0m\n\u001b[0;32m   2429\u001b[0m             \u001b[0mw\u001b[0m \u001b[1;33m*=\u001b[0m \u001b[0maweights\u001b[0m\u001b[1;33m\u001b[0m\u001b[1;33m\u001b[0m\u001b[0m\n\u001b[0;32m   2430\u001b[0m \u001b[1;33m\u001b[0m\u001b[0m\n\u001b[1;32m-> 2431\u001b[1;33m     \u001b[0mavg\u001b[0m\u001b[1;33m,\u001b[0m \u001b[0mw_sum\u001b[0m \u001b[1;33m=\u001b[0m \u001b[0maverage\u001b[0m\u001b[1;33m(\u001b[0m\u001b[0mX\u001b[0m\u001b[1;33m,\u001b[0m \u001b[0maxis\u001b[0m\u001b[1;33m=\u001b[0m\u001b[1;36m1\u001b[0m\u001b[1;33m,\u001b[0m \u001b[0mweights\u001b[0m\u001b[1;33m=\u001b[0m\u001b[0mw\u001b[0m\u001b[1;33m,\u001b[0m \u001b[0mreturned\u001b[0m\u001b[1;33m=\u001b[0m\u001b[1;32mTrue\u001b[0m\u001b[1;33m)\u001b[0m\u001b[1;33m\u001b[0m\u001b[1;33m\u001b[0m\u001b[0m\n\u001b[0m\u001b[0;32m   2432\u001b[0m     \u001b[0mw_sum\u001b[0m \u001b[1;33m=\u001b[0m \u001b[0mw_sum\u001b[0m\u001b[1;33m[\u001b[0m\u001b[1;36m0\u001b[0m\u001b[1;33m]\u001b[0m\u001b[1;33m\u001b[0m\u001b[1;33m\u001b[0m\u001b[0m\n\u001b[0;32m   2433\u001b[0m \u001b[1;33m\u001b[0m\u001b[0m\n",
      "\u001b[1;32m<__array_function__ internals>\u001b[0m in \u001b[0;36maverage\u001b[1;34m(*args, **kwargs)\u001b[0m\n",
      "\u001b[1;32mC:\\Anaconda3\\lib\\site-packages\\numpy\\lib\\function_base.py\u001b[0m in \u001b[0;36maverage\u001b[1;34m(a, axis, weights, returned)\u001b[0m\n\u001b[0;32m    391\u001b[0m \u001b[1;33m\u001b[0m\u001b[0m\n\u001b[0;32m    392\u001b[0m     \u001b[1;32mif\u001b[0m \u001b[0mweights\u001b[0m \u001b[1;32mis\u001b[0m \u001b[1;32mNone\u001b[0m\u001b[1;33m:\u001b[0m\u001b[1;33m\u001b[0m\u001b[1;33m\u001b[0m\u001b[0m\n\u001b[1;32m--> 393\u001b[1;33m         \u001b[0mavg\u001b[0m \u001b[1;33m=\u001b[0m \u001b[0ma\u001b[0m\u001b[1;33m.\u001b[0m\u001b[0mmean\u001b[0m\u001b[1;33m(\u001b[0m\u001b[0maxis\u001b[0m\u001b[1;33m)\u001b[0m\u001b[1;33m\u001b[0m\u001b[1;33m\u001b[0m\u001b[0m\n\u001b[0m\u001b[0;32m    394\u001b[0m         \u001b[0mscl\u001b[0m \u001b[1;33m=\u001b[0m \u001b[0mavg\u001b[0m\u001b[1;33m.\u001b[0m\u001b[0mdtype\u001b[0m\u001b[1;33m.\u001b[0m\u001b[0mtype\u001b[0m\u001b[1;33m(\u001b[0m\u001b[0ma\u001b[0m\u001b[1;33m.\u001b[0m\u001b[0msize\u001b[0m\u001b[1;33m/\u001b[0m\u001b[0mavg\u001b[0m\u001b[1;33m.\u001b[0m\u001b[0msize\u001b[0m\u001b[1;33m)\u001b[0m\u001b[1;33m\u001b[0m\u001b[1;33m\u001b[0m\u001b[0m\n\u001b[0;32m    395\u001b[0m     \u001b[1;32melse\u001b[0m\u001b[1;33m:\u001b[0m\u001b[1;33m\u001b[0m\u001b[1;33m\u001b[0m\u001b[0m\n",
      "\u001b[1;32mC:\\Anaconda3\\lib\\site-packages\\numpy\\core\\_methods.py\u001b[0m in \u001b[0;36m_mean\u001b[1;34m(a, axis, dtype, out, keepdims)\u001b[0m\n\u001b[0;32m    152\u001b[0m     \u001b[1;32mif\u001b[0m \u001b[0misinstance\u001b[0m\u001b[1;33m(\u001b[0m\u001b[0mret\u001b[0m\u001b[1;33m,\u001b[0m \u001b[0mmu\u001b[0m\u001b[1;33m.\u001b[0m\u001b[0mndarray\u001b[0m\u001b[1;33m)\u001b[0m\u001b[1;33m:\u001b[0m\u001b[1;33m\u001b[0m\u001b[1;33m\u001b[0m\u001b[0m\n\u001b[0;32m    153\u001b[0m         ret = um.true_divide(\n\u001b[1;32m--> 154\u001b[1;33m                 ret, rcount, out=ret, casting='unsafe', subok=False)\n\u001b[0m\u001b[0;32m    155\u001b[0m         \u001b[1;32mif\u001b[0m \u001b[0mis_float16_result\u001b[0m \u001b[1;32mand\u001b[0m \u001b[0mout\u001b[0m \u001b[1;32mis\u001b[0m \u001b[1;32mNone\u001b[0m\u001b[1;33m:\u001b[0m\u001b[1;33m\u001b[0m\u001b[1;33m\u001b[0m\u001b[0m\n\u001b[0;32m    156\u001b[0m             \u001b[0mret\u001b[0m \u001b[1;33m=\u001b[0m \u001b[0marr\u001b[0m\u001b[1;33m.\u001b[0m\u001b[0mdtype\u001b[0m\u001b[1;33m.\u001b[0m\u001b[0mtype\u001b[0m\u001b[1;33m(\u001b[0m\u001b[0mret\u001b[0m\u001b[1;33m)\u001b[0m\u001b[1;33m\u001b[0m\u001b[1;33m\u001b[0m\u001b[0m\n",
      "\u001b[1;31mTypeError\u001b[0m: unsupported operand type(s) for /: 'str' and 'int'"
     ]
    }
   ],
   "source": [
    "for g in df_merged_mRNA.columns:\n",
    "    np.corrcoef(df_merged_mRNA[g].dropna(), df_merged_mRNA[\"OS time\"].dropna())"
   ]
  },
  {
   "cell_type": "markdown",
   "metadata": {},
   "source": [
    "clmn"
   ]
  },
  {
   "cell_type": "code",
   "execution_count": 125,
   "metadata": {},
   "outputs": [
    {
     "data": {
      "text/plain": [
       "True"
      ]
     },
     "execution_count": 125,
     "metadata": {},
     "output_type": "execute_result"
    }
   ],
   "source": [
    "all(isinstance(x,str) for x in clmn)"
   ]
  },
  {
   "cell_type": "code",
   "execution_count": 134,
   "metadata": {},
   "outputs": [
    {
     "name": "stdout",
     "output_type": "stream",
     "text": [
      "ABAT\n",
      "[[ 1.         -0.08632549]\n",
      " [-0.08632549  1.        ]]\n",
      "ABCC6P2\n",
      "[[ 1.         -0.01889356]\n",
      " [-0.01889356  1.        ]]\n",
      "ACSM5\n",
      "[[1.         0.01887212]\n",
      " [0.01887212 1.        ]]\n",
      "ANGPTL4\n",
      "[[ 1.         -0.05731205]\n",
      " [-0.05731205  1.        ]]\n",
      "ANXA1\n",
      "[[1.         0.03874173]\n",
      " [0.03874173 1.        ]]\n",
      "AQP4\n",
      "[[1.         0.05504605]\n",
      " [0.05504605 1.        ]]\n",
      "AXL\n",
      "[[1.        0.0560972]\n",
      " [0.0560972 1.       ]]\n",
      "BEX4\n",
      "[[1.         0.11017867]\n",
      " [0.11017867 1.        ]]\n",
      "CBX5\n",
      "[[1.         0.05555733]\n",
      " [0.05555733 1.        ]]\n",
      "CCNB1\n",
      "[[ 1.         -0.22161366]\n",
      " [-0.22161366  1.        ]]\n",
      "CD109\n",
      "[[ 1.         -0.13194518]\n",
      " [-0.13194518  1.        ]]\n",
      "CD274\n",
      "[[ 1.         -0.00245287]\n",
      " [-0.00245287  1.        ]]\n",
      "CECR1\n",
      "[[1.         0.19749634]\n",
      " [0.19749634 1.        ]]\n",
      "CLIC6\n",
      "[[ 1.         -0.06439435]\n",
      " [-0.06439435  1.        ]]\n",
      "CNTN3\n",
      "[[1.         0.16728189]\n",
      " [0.16728189 1.        ]]\n",
      "CYP4B1\n",
      "[[1.         0.14389761]\n",
      " [0.14389761 1.        ]]\n",
      "DEPDC1\n",
      "[[ 1.         -0.11587054]\n",
      " [-0.11587054  1.        ]]\n",
      "DKK1\n",
      "[[ 1.         -0.14555684]\n",
      " [-0.14555684  1.        ]]\n",
      "DNAJC28\n",
      "[[ 1.         -0.06349719]\n",
      " [-0.06349719  1.        ]]\n",
      "FABP4\n",
      "[[1.        0.0977183]\n",
      " [0.0977183 1.       ]]\n",
      "FBXO16\n",
      "[[ 1.         -0.02626904]\n",
      " [-0.02626904  1.        ]]\n",
      "GFPT2\n",
      "[[1.        0.0410132]\n",
      " [0.0410132 1.       ]]\n",
      "GGT6\n",
      "[[ 1.         -0.01964664]\n",
      " [-0.01964664  1.        ]]\n",
      "GNG7\n",
      "[[1.         0.03335202]\n",
      " [0.03335202 1.        ]]\n",
      "GNMT\n",
      "[[ 1.         -0.04050486]\n",
      " [-0.04050486  1.        ]]\n",
      "GPC6\n",
      "[[ 1.         -0.05660456]\n",
      " [-0.05660456  1.        ]]\n",
      "IFNG\n",
      "[[ 1.         -0.06894981]\n",
      " [-0.06894981  1.        ]]\n",
      "IRX5\n",
      "[[ 1.         -0.06514997]\n",
      " [-0.06514997  1.        ]]\n",
      "LDLRAD3\n",
      "[[1.         0.02951666]\n",
      " [0.02951666 1.        ]]\n",
      "LYPD3\n",
      "[[ 1.         -0.14630612]\n",
      " [-0.14630612  1.        ]]\n",
      "MAP1LC3B\n",
      "[[1.         0.05916995]\n",
      " [0.05916995 1.        ]]\n",
      "MERTK\n",
      "[[1.        0.1511048]\n",
      " [0.1511048 1.       ]]\n",
      "MTL5\n",
      "[[ 1.         -0.03729955]\n",
      " [-0.03729955  1.        ]]\n",
      "NCKAP5\n",
      "[[1.         0.01527026]\n",
      " [0.01527026 1.        ]]\n",
      "P2RY13\n",
      "[[1.         0.00929121]\n",
      " [0.00929121 1.        ]]\n",
      "PDE6B\n",
      "[[ 1.         -0.04799244]\n",
      " [-0.04799244  1.        ]]\n",
      "PFKP\n",
      "[[ 1.        -0.1494933]\n",
      " [-0.1494933  1.       ]]\n",
      "POLR2H\n",
      "[[ 1.         -0.03315411]\n",
      " [-0.03315411  1.        ]]\n",
      "PPM1M\n",
      "[[1.         0.22987408]\n",
      " [0.22987408 1.        ]]\n",
      "PTPRH\n",
      "[[ 1.         -0.07317465]\n",
      " [-0.07317465  1.        ]]\n",
      "RAB27B\n",
      "[[ 1.         -0.09645646]\n",
      " [-0.09645646  1.        ]]\n",
      "RPL13AP17\n",
      "[[ 1.         -0.05662929]\n",
      " [-0.05662929  1.        ]]\n",
      "RPS6KL1\n",
      "[[ 1.00000000e+00 -2.03394569e-04]\n",
      " [-2.03394569e-04  1.00000000e+00]]\n",
      "SFTA3\n",
      "[[ 1.        -0.0012966]\n",
      " [-0.0012966  1.       ]]\n",
      "SFTPC\n",
      "[[1.         0.05641169]\n",
      " [0.05641169 1.        ]]\n",
      "SLC16A1\n",
      "[[ 1.         -0.06015246]\n",
      " [-0.06015246  1.        ]]\n",
      "SLC2A1\n",
      "[[ 1.         -0.04126858]\n",
      " [-0.04126858  1.        ]]\n",
      "SNN\n",
      "[[1.         0.19122384]\n",
      " [0.19122384 1.        ]]\n",
      "TLE1\n",
      "[[1.         0.00734584]\n",
      " [0.00734584 1.        ]]\n",
      "TM4SF1\n",
      "[[ 1.         -0.06470748]\n",
      " [-0.06470748  1.        ]]\n",
      "TOP2A\n",
      "[[ 1.         -0.14466675]\n",
      " [-0.14466675  1.        ]]\n",
      "TRIM27\n",
      "[[1.         0.04742974]\n",
      " [0.04742974 1.        ]]\n",
      "GAPDH\n",
      "[[1.         0.04311157]\n",
      " [0.04311157 1.        ]]\n",
      "HPRT1\n",
      "[[ 1.         -0.07526104]\n",
      " [-0.07526104  1.        ]]\n",
      "TBP\n",
      "[[1.         0.03374506]\n",
      " [0.03374506 1.        ]]\n"
     ]
    }
   ],
   "source": [
    "clmn=list(df_merged_mRNA.iloc[:,1:-16])\n",
    "for i in clmn: \n",
    "    print(i)\n",
    "    print(np.corrcoef(df_merged_mRNA[i].dropna(), df_merged_mRNA[\"OS time\"].dropna()))"
   ]
  },
  {
   "cell_type": "code",
   "execution_count": 135,
   "metadata": {},
   "outputs": [],
   "source": [
    "corr = open('corr.txt','a')"
   ]
  },
  {
   "cell_type": "code",
   "execution_count": 136,
   "metadata": {},
   "outputs": [
    {
     "name": "stdout",
     "output_type": "stream",
     "text": [
      "ABAT\n",
      "[[ 1.         -0.03686075]\n",
      " [-0.03686075  1.        ]]\n",
      "ABCC6P2\n",
      "[[1.00000000e+00 9.68979271e-04]\n",
      " [9.68979271e-04 1.00000000e+00]]\n",
      "ACSM5\n",
      "[[1.         0.05046236]\n",
      " [0.05046236 1.        ]]\n",
      "ANGPTL4\n",
      "[[ 1.         -0.07913701]\n",
      " [-0.07913701  1.        ]]\n",
      "ANXA1\n",
      "[[1.         0.08432959]\n",
      " [0.08432959 1.        ]]\n",
      "AQP4\n",
      "[[1.         0.08164728]\n",
      " [0.08164728 1.        ]]\n",
      "AXL\n",
      "[[1.         0.08278233]\n",
      " [0.08278233 1.        ]]\n",
      "BEX4\n",
      "[[1.         0.10569909]\n",
      " [0.10569909 1.        ]]\n",
      "CBX5\n",
      "[[1.         0.06981145]\n",
      " [0.06981145 1.        ]]\n",
      "CCNB1\n",
      "[[ 1.         -0.17910281]\n",
      " [-0.17910281  1.        ]]\n",
      "CD109\n",
      "[[ 1.         -0.07220944]\n",
      " [-0.07220944  1.        ]]\n",
      "CD274\n",
      "[[1.         0.02352734]\n",
      " [0.02352734 1.        ]]\n",
      "CECR1\n",
      "[[1.         0.19524435]\n",
      " [0.19524435 1.        ]]\n",
      "CLIC6\n",
      "[[ 1.         -0.08232189]\n",
      " [-0.08232189  1.        ]]\n",
      "CNTN3\n",
      "[[1.         0.16358579]\n",
      " [0.16358579 1.        ]]\n",
      "CYP4B1\n",
      "[[1.         0.12983529]\n",
      " [0.12983529 1.        ]]\n",
      "DEPDC1\n",
      "[[ 1.         -0.09034857]\n",
      " [-0.09034857  1.        ]]\n",
      "DKK1\n",
      "[[ 1.         -0.11318522]\n",
      " [-0.11318522  1.        ]]\n",
      "DNAJC28\n",
      "[[ 1.         -0.03718129]\n",
      " [-0.03718129  1.        ]]\n",
      "FABP4\n",
      "[[1.         0.12204762]\n",
      " [0.12204762 1.        ]]\n",
      "FBXO16\n",
      "[[1.         0.02256833]\n",
      " [0.02256833 1.        ]]\n",
      "GFPT2\n",
      "[[1.         0.05391057]\n",
      " [0.05391057 1.        ]]\n",
      "GGT6\n",
      "[[1.         0.04333862]\n",
      " [0.04333862 1.        ]]\n",
      "GNG7\n",
      "[[1.         0.07563998]\n",
      " [0.07563998 1.        ]]\n",
      "GNMT\n",
      "[[ 1.         -0.01221815]\n",
      " [-0.01221815  1.        ]]\n",
      "GPC6\n",
      "[[ 1.         -0.05204538]\n",
      " [-0.05204538  1.        ]]\n",
      "IFNG\n",
      "[[ 1.         -0.04938573]\n",
      " [-0.04938573  1.        ]]\n",
      "IRX5\n",
      "[[ 1.         -0.02439152]\n",
      " [-0.02439152  1.        ]]\n",
      "LDLRAD3\n",
      "[[1.         0.05970189]\n",
      " [0.05970189 1.        ]]\n",
      "LYPD3\n",
      "[[ 1.         -0.11975121]\n",
      " [-0.11975121  1.        ]]\n",
      "MAP1LC3B\n",
      "[[1.         0.09254647]\n",
      " [0.09254647 1.        ]]\n",
      "MERTK\n",
      "[[1.         0.14836183]\n",
      " [0.14836183 1.        ]]\n",
      "MTL5\n",
      "[[ 1.         -0.01921097]\n",
      " [-0.01921097  1.        ]]\n",
      "NCKAP5\n",
      "[[1.         0.03939647]\n",
      " [0.03939647 1.        ]]\n",
      "P2RY13\n",
      "[[1.         0.01625637]\n",
      " [0.01625637 1.        ]]\n",
      "PDE6B\n",
      "[[ 1.        -0.0265443]\n",
      " [-0.0265443  1.       ]]\n",
      "PFKP\n",
      "[[ 1.         -0.08432703]\n",
      " [-0.08432703  1.        ]]\n",
      "POLR2H\n",
      "[[ 1.         -0.01039949]\n",
      " [-0.01039949  1.        ]]\n",
      "PPM1M\n",
      "[[1.         0.21931173]\n",
      " [0.21931173 1.        ]]\n",
      "PTPRH\n",
      "[[ 1.         -0.05100587]\n",
      " [-0.05100587  1.        ]]\n",
      "RAB27B\n",
      "[[ 1.        -0.0537144]\n",
      " [-0.0537144  1.       ]]\n",
      "RPL13AP17\n",
      "[[ 1.         -0.03818169]\n",
      " [-0.03818169  1.        ]]\n",
      "RPS6KL1\n",
      "[[ 1.         -0.00603516]\n",
      " [-0.00603516  1.        ]]\n",
      "SFTA3\n",
      "[[1.         0.04331137]\n",
      " [0.04331137 1.        ]]\n",
      "SFTPC\n",
      "[[1.         0.08701205]\n",
      " [0.08701205 1.        ]]\n",
      "SLC16A1\n",
      "[[ 1.         -0.02263392]\n",
      " [-0.02263392  1.        ]]\n",
      "SLC2A1\n",
      "[[ 1.         -0.02535486]\n",
      " [-0.02535486  1.        ]]\n",
      "SNN\n",
      "[[1.         0.19739836]\n",
      " [0.19739836 1.        ]]\n",
      "TLE1\n",
      "[[1.         0.04189014]\n",
      " [0.04189014 1.        ]]\n",
      "TM4SF1\n",
      "[[ 1.         -0.00106648]\n",
      " [-0.00106648  1.        ]]\n",
      "TOP2A\n",
      "[[ 1.         -0.12181942]\n",
      " [-0.12181942  1.        ]]\n",
      "TRIM27\n",
      "[[1.         0.06755516]\n",
      " [0.06755516 1.        ]]\n",
      "GAPDH\n",
      "[[1.         0.02780971]\n",
      " [0.02780971 1.        ]]\n",
      "HPRT1\n",
      "[[ 1.         -0.06703712]\n",
      " [-0.06703712  1.        ]]\n",
      "TBP\n",
      "[[1.        0.0616235]\n",
      " [0.0616235 1.       ]]\n"
     ]
    }
   ],
   "source": [
    "clmn=list(df_merged_mRNA.iloc[:,1:-16])\n",
    "for i in clmn: \n",
    "    print(i)\n",
    "    print(np.corrcoef(df_merged_mRNA[i].dropna(), df_merged_mRNA[\"RFS time\"].dropna()))"
   ]
  },
  {
   "cell_type": "code",
   "execution_count": 137,
   "metadata": {},
   "outputs": [
    {
     "data": {
      "text/plain": [
       "ID                                 100\n",
       "ABAT                               100\n",
       "ABCC6P2                            100\n",
       "ACSM5                              100\n",
       "ANGPTL4                            100\n",
       "                                  ... \n",
       "date of death or last follow up    100\n",
       "OS                                 100\n",
       "OS time                            100\n",
       "RFS                                100\n",
       "RFS time                           100\n",
       "Length: 72, dtype: int64"
      ]
     },
     "execution_count": 137,
     "metadata": {},
     "output_type": "execute_result"
    }
   ],
   "source": [
    "df_merged_mRNA.isnull().sum() # 모두가 100개의 missing 임 "
   ]
  },
  {
   "cell_type": "code",
   "execution_count": 5,
   "metadata": {},
   "outputs": [
    {
     "name": "stdout",
     "output_type": "stream",
     "text": [
      "<class 'pandas.core.frame.DataFrame'>\n",
      "Int64Index: 292 entries, 0 to 291\n",
      "Data columns (total 72 columns):\n",
      " #   Column                                                                                                                                                                                                                                                                      Non-Null Count  Dtype  \n",
      "---  ------                                                                                                                                                                                                                                                                      --------------  -----  \n",
      " 0   ID                                                                                                                                                                                                                                                                          192 non-null    object \n",
      " 1   ABAT                                                                                                                                                                                                                                                                        192 non-null    float64\n",
      " 2   ABCC6P2                                                                                                                                                                                                                                                                     192 non-null    float64\n",
      " 3   ACSM5                                                                                                                                                                                                                                                                       192 non-null    float64\n",
      " 4   ANGPTL4                                                                                                                                                                                                                                                                     192 non-null    float64\n",
      " 5   ANXA1                                                                                                                                                                                                                                                                       192 non-null    float64\n",
      " 6   AQP4                                                                                                                                                                                                                                                                        192 non-null    float64\n",
      " 7   AXL                                                                                                                                                                                                                                                                         192 non-null    float64\n",
      " 8   BEX4                                                                                                                                                                                                                                                                        192 non-null    float64\n",
      " 9   CBX5                                                                                                                                                                                                                                                                        192 non-null    float64\n",
      " 10  CCNB1                                                                                                                                                                                                                                                                       192 non-null    float64\n",
      " 11  CD109                                                                                                                                                                                                                                                                       192 non-null    float64\n",
      " 12  CD274                                                                                                                                                                                                                                                                       192 non-null    float64\n",
      " 13  CECR1                                                                                                                                                                                                                                                                       192 non-null    float64\n",
      " 14  CLIC6                                                                                                                                                                                                                                                                       192 non-null    float64\n",
      " 15  CNTN3                                                                                                                                                                                                                                                                       192 non-null    float64\n",
      " 16  CYP4B1                                                                                                                                                                                                                                                                      192 non-null    float64\n",
      " 17  DEPDC1                                                                                                                                                                                                                                                                      192 non-null    float64\n",
      " 18  DKK1                                                                                                                                                                                                                                                                        192 non-null    float64\n",
      " 19  DNAJC28                                                                                                                                                                                                                                                                     192 non-null    float64\n",
      " 20  FABP4                                                                                                                                                                                                                                                                       192 non-null    float64\n",
      " 21  FBXO16                                                                                                                                                                                                                                                                      192 non-null    float64\n",
      " 22  GFPT2                                                                                                                                                                                                                                                                       192 non-null    float64\n",
      " 23  GGT6                                                                                                                                                                                                                                                                        192 non-null    float64\n",
      " 24  GNG7                                                                                                                                                                                                                                                                        192 non-null    float64\n",
      " 25  GNMT                                                                                                                                                                                                                                                                        192 non-null    float64\n",
      " 26  GPC6                                                                                                                                                                                                                                                                        192 non-null    float64\n",
      " 27  IFNG                                                                                                                                                                                                                                                                        192 non-null    float64\n",
      " 28  IRX5                                                                                                                                                                                                                                                                        192 non-null    float64\n",
      " 29  LDLRAD3                                                                                                                                                                                                                                                                     192 non-null    float64\n",
      " 30  LYPD3                                                                                                                                                                                                                                                                       192 non-null    float64\n",
      " 31  MAP1LC3B                                                                                                                                                                                                                                                                    192 non-null    float64\n",
      " 32  MERTK                                                                                                                                                                                                                                                                       192 non-null    float64\n",
      " 33  MTL5                                                                                                                                                                                                                                                                        192 non-null    float64\n",
      " 34  NCKAP5                                                                                                                                                                                                                                                                      192 non-null    float64\n",
      " 35  P2RY13                                                                                                                                                                                                                                                                      192 non-null    float64\n",
      " 36  PDE6B                                                                                                                                                                                                                                                                       192 non-null    float64\n",
      " 37  PFKP                                                                                                                                                                                                                                                                        192 non-null    float64\n",
      " 38  POLR2H                                                                                                                                                                                                                                                                      192 non-null    float64\n",
      " 39  PPM1M                                                                                                                                                                                                                                                                       192 non-null    float64\n",
      " 40  PTPRH                                                                                                                                                                                                                                                                       192 non-null    float64\n",
      " 41  RAB27B                                                                                                                                                                                                                                                                      192 non-null    float64\n",
      " 42  RPL13AP17                                                                                                                                                                                                                                                                   192 non-null    float64\n",
      " 43  RPS6KL1                                                                                                                                                                                                                                                                     192 non-null    float64\n",
      " 44  SFTA3                                                                                                                                                                                                                                                                       192 non-null    float64\n",
      " 45  SFTPC                                                                                                                                                                                                                                                                       192 non-null    float64\n",
      " 46  SLC16A1                                                                                                                                                                                                                                                                     192 non-null    float64\n",
      " 47  SLC2A1                                                                                                                                                                                                                                                                      192 non-null    float64\n",
      " 48  SNN                                                                                                                                                                                                                                                                         192 non-null    float64\n",
      " 49  TLE1                                                                                                                                                                                                                                                                        192 non-null    float64\n",
      " 50  TM4SF1                                                                                                                                                                                                                                                                      192 non-null    float64\n",
      " 51  TOP2A                                                                                                                                                                                                                                                                       192 non-null    float64\n",
      " 52  TRIM27                                                                                                                                                                                                                                                                      192 non-null    float64\n",
      " 53  GAPDH                                                                                                                                                                                                                                                                       192 non-null    float64\n",
      " 54  HPRT1                                                                                                                                                                                                                                                                       192 non-null    float64\n",
      " 55  TBP                                                                                                                                                                                                                                                                         192 non-null    float64\n",
      " 56  pathology number                                                                                                                                                                                                                                                            191 non-null    object \n",
      " 57  hospital ID                                                                                                                                                                                                                                                                 192 non-null    object \n",
      " 58  birth date                                                                                                                                                                                                                                                                  192 non-null    object \n",
      " 59  sex                                                                                                                                                                                                                                                                         192 non-null    object \n",
      " 60  age                                                                                                                                                                                                                                                                         189 non-null    float64\n",
      " 61  date_operation                                                                                                                                                                                                                                                              192 non-null    object \n",
      " 62  histology                                                                                                                                                                                                                                                                   192 non-null    float64\n",
      " 63  stage\n",
      "\n",
      "11-Ia\n",
      "12-Ib\n",
      "20-II               \n",
      "21-IIa \n",
      "22-IIb\n",
      "30-III                  \n",
      "31-IIIa \n",
      "32-IIIb\n",
      "40-IV                                                                                                                                                                      172 non-null    float64\n",
      " 64  status_recurrence                                                                                                                                                                                                                                                           191 non-null    float64\n",
      " 65  date_recurrence                                                                                                                                                                                                                                                             76 non-null     object \n",
      " 66  FU status\n",
      "\n",
      "0=alive without ds                     \n",
      "1=alive with recurren ds,                                  \n",
      "2=dead without ds                                   \n",
      "3=dead d/t recurrent ds                        \n",
      "4=dead, unknown                            \n",
      "5= FU loss  192 non-null    float64\n",
      " 67  date of death or last follow up                                                                                                                                                                                                                                             192 non-null    object \n",
      " 68  OS                                                                                                                                                                                                                                                                          192 non-null    float64\n",
      " 69  OS time                                                                                                                                                                                                                                                                     192 non-null    float64\n",
      " 70  RFS                                                                                                                                                                                                                                                                         192 non-null    float64\n",
      " 71  RFS time                                                                                                                                                                                                                                                                    192 non-null    float64\n",
      "dtypes: float64(64), object(8)\n",
      "memory usage: 166.5+ KB\n"
     ]
    }
   ],
   "source": [
    "df_merged_mRNA.info()"
   ]
  },
  {
   "cell_type": "code",
   "execution_count": 21,
   "metadata": {},
   "outputs": [],
   "source": [
    "df_merged_mRNA[\"ABAT\"] = df_merged_mRNA[\"ABAT\"].astype(float)\n",
    "df_merged_mRNA[\"age\"] = df_merged_mRNA[\"age\"].astype(float)"
   ]
  },
  {
   "cell_type": "code",
   "execution_count": 23,
   "metadata": {},
   "outputs": [
    {
     "data": {
      "text/plain": [
       "Index(['ID', 'ABAT', 'ABCC6P2', 'ACSM5', 'ANGPTL4', 'ANXA1', 'AQP4', 'AXL',\n",
       "       'BEX4', 'CBX5', 'CCNB1', 'CD109', 'CD274', 'CECR1', 'CLIC6', 'CNTN3',\n",
       "       'CYP4B1', 'DEPDC1', 'DKK1', 'DNAJC28', 'FABP4', 'FBXO16', 'GFPT2',\n",
       "       'GGT6', 'GNG7', 'GNMT', 'GPC6', 'IFNG', 'IRX5', 'LDLRAD3', 'LYPD3',\n",
       "       'MAP1LC3B', 'MERTK', 'MTL5', 'NCKAP5', 'P2RY13', 'PDE6B', 'PFKP',\n",
       "       'POLR2H', 'PPM1M', 'PTPRH', 'RAB27B', 'RPL13AP17', 'RPS6KL1', 'SFTA3',\n",
       "       'SFTPC', 'SLC16A1', 'SLC2A1', 'SNN', 'TLE1', 'TM4SF1', 'TOP2A',\n",
       "       'TRIM27', 'GAPDH', 'HPRT1', 'TBP', 'pathology number', 'hospital ID',\n",
       "       'birth date', 'sex ', 'age', 'date_operation', 'histology',\n",
       "       'stage\\n\\n11-Ia\\n12-Ib\\n20-II               \\n21-IIa \\n22-IIb\\n30-III                  \\n31-IIIa \\n32-IIIb\\n40-IV',\n",
       "       'status_recurrence', 'date_recurrence',\n",
       "       'FU status\\n\\n0=alive without ds                     \\n1=alive with recurren ds,                                  \\n2=dead without ds                                   \\n3=dead d/t recurrent ds                        \\n4=dead, unknown                            \\n5= FU loss',\n",
       "       'date of death or last follow up', 'OS', 'OS time', 'RFS', 'RFS time'],\n",
       "      dtype='object')"
      ]
     },
     "execution_count": 23,
     "metadata": {},
     "output_type": "execute_result"
    }
   ],
   "source": [
    "df_merged_mRNA.columns"
   ]
  },
  {
   "cell_type": "code",
   "execution_count": 31,
   "metadata": {},
   "outputs": [],
   "source": [
    "df_merged_mRNA.rename(columns={\"stage\\n\\n11-Ia\\n12-Ib\\n20-II               \\n21-IIa \\n22-IIb\\n30-III                  \\n31-IIIa \\n32-IIIb\\n40-I\":\"stage\"}, inplace = True)"
   ]
  },
  {
   "cell_type": "code",
   "execution_count": 34,
   "metadata": {},
   "outputs": [],
   "source": []
  },
  {
   "cell_type": "code",
   "execution_count": 147,
   "metadata": {},
   "outputs": [],
   "source": [
    "missing_df = df_merged_mRNA.isnull().sum().reset_index"
   ]
  },
  {
   "cell_type": "code",
   "execution_count": 149,
   "metadata": {},
   "outputs": [
    {
     "name": "stdout",
     "output_type": "stream",
     "text": [
      "<bound method Series.reset_index of ID                                 100\n",
      "ABAT                               100\n",
      "ABCC6P2                            100\n",
      "ACSM5                              100\n",
      "ANGPTL4                            100\n",
      "                                  ... \n",
      "date of death or last follow up    100\n",
      "OS                                 100\n",
      "OS time                            100\n",
      "RFS                                100\n",
      "RFS time                           100\n",
      "Length: 72, dtype: int64>\n"
     ]
    }
   ],
   "source": [
    "print(missing_df)"
   ]
  },
  {
   "cell_type": "code",
   "execution_count": 148,
   "metadata": {},
   "outputs": [
    {
     "ename": "AttributeError",
     "evalue": "'method' object has no attribute 'columns'",
     "output_type": "error",
     "traceback": [
      "\u001b[1;31m---------------------------------------------------------------------------\u001b[0m",
      "\u001b[1;31mAttributeError\u001b[0m                            Traceback (most recent call last)",
      "\u001b[1;32m<ipython-input-148-454805f8ceff>\u001b[0m in \u001b[0;36m<module>\u001b[1;34m\u001b[0m\n\u001b[1;32m----> 1\u001b[1;33m \u001b[0mmissing_df\u001b[0m\u001b[1;33m.\u001b[0m\u001b[0mcolumns\u001b[0m \u001b[1;33m=\u001b[0m \u001b[1;33m[\u001b[0m\u001b[1;34m\"column\"\u001b[0m\u001b[1;33m,\u001b[0m\u001b[1;34m\"count\"\u001b[0m\u001b[1;33m]\u001b[0m\u001b[1;33m\u001b[0m\u001b[1;33m\u001b[0m\u001b[0m\n\u001b[0m",
      "\u001b[1;31mAttributeError\u001b[0m: 'method' object has no attribute 'columns'"
     ]
    }
   ],
   "source": [
    "missing_df.columns = [\"column\",\"count\"]"
   ]
  },
  {
   "cell_type": "code",
   "execution_count": null,
   "metadata": {},
   "outputs": [],
   "source": [
    "missing_df.columns = [\"column\",\"count\"]\n",
    "missing_df[\"ratio\"] = missing_df[\"count\"]/df_merged_mRNA.shape[0]\n",
    "mssing_df.loc[missing_df[\"ratio\"]!=0]"
   ]
  },
  {
   "cell_type": "code",
   "execution_count": 142,
   "metadata": {},
   "outputs": [
    {
     "data": {
      "text/plain": [
       "292"
      ]
     },
     "execution_count": 142,
     "metadata": {},
     "output_type": "execute_result"
    }
   ],
   "source": [
    "df_merged_mRNA.shape[0]"
   ]
  },
  {
   "cell_type": "code",
   "execution_count": 143,
   "metadata": {},
   "outputs": [
    {
     "data": {
      "text/plain": [
       "72"
      ]
     },
     "execution_count": 143,
     "metadata": {},
     "output_type": "execute_result"
    }
   ],
   "source": [
    "df_merged_mRNA.shape[1]"
   ]
  },
  {
   "cell_type": "code",
   "execution_count": 16,
   "metadata": {},
   "outputs": [
    {
     "ename": "KeyError",
     "evalue": "'stage'",
     "output_type": "error",
     "traceback": [
      "\u001b[1;31m---------------------------------------------------------------------------\u001b[0m",
      "\u001b[1;31mKeyError\u001b[0m                                  Traceback (most recent call last)",
      "\u001b[1;32m<ipython-input-16-2358d63f340c>\u001b[0m in \u001b[0;36m<module>\u001b[1;34m\u001b[0m\n\u001b[1;32m----> 1\u001b[1;33m \u001b[0mdf_merged_mRNA\u001b[0m\u001b[1;33m.\u001b[0m\u001b[0mgroupby\u001b[0m\u001b[1;33m(\u001b[0m\u001b[1;34m'stage'\u001b[0m\u001b[1;33m)\u001b[0m\u001b[1;33m.\u001b[0m\u001b[0mmedian\u001b[0m\u001b[1;33m(\u001b[0m\u001b[1;33m)\u001b[0m\u001b[1;33m\u001b[0m\u001b[1;33m\u001b[0m\u001b[0m\n\u001b[0m",
      "\u001b[1;32mC:\\Anaconda3\\lib\\site-packages\\pandas\\core\\frame.py\u001b[0m in \u001b[0;36mgroupby\u001b[1;34m(self, by, axis, level, as_index, sort, group_keys, squeeze, observed)\u001b[0m\n\u001b[0;32m   5808\u001b[0m             \u001b[0mgroup_keys\u001b[0m\u001b[1;33m=\u001b[0m\u001b[0mgroup_keys\u001b[0m\u001b[1;33m,\u001b[0m\u001b[1;33m\u001b[0m\u001b[1;33m\u001b[0m\u001b[0m\n\u001b[0;32m   5809\u001b[0m             \u001b[0msqueeze\u001b[0m\u001b[1;33m=\u001b[0m\u001b[0msqueeze\u001b[0m\u001b[1;33m,\u001b[0m\u001b[1;33m\u001b[0m\u001b[1;33m\u001b[0m\u001b[0m\n\u001b[1;32m-> 5810\u001b[1;33m             \u001b[0mobserved\u001b[0m\u001b[1;33m=\u001b[0m\u001b[0mobserved\u001b[0m\u001b[1;33m,\u001b[0m\u001b[1;33m\u001b[0m\u001b[1;33m\u001b[0m\u001b[0m\n\u001b[0m\u001b[0;32m   5811\u001b[0m         )\n\u001b[0;32m   5812\u001b[0m \u001b[1;33m\u001b[0m\u001b[0m\n",
      "\u001b[1;32mC:\\Anaconda3\\lib\\site-packages\\pandas\\core\\groupby\\groupby.py\u001b[0m in \u001b[0;36m__init__\u001b[1;34m(self, obj, keys, axis, level, grouper, exclusions, selection, as_index, sort, group_keys, squeeze, observed, mutated)\u001b[0m\n\u001b[0;32m    407\u001b[0m                 \u001b[0msort\u001b[0m\u001b[1;33m=\u001b[0m\u001b[0msort\u001b[0m\u001b[1;33m,\u001b[0m\u001b[1;33m\u001b[0m\u001b[1;33m\u001b[0m\u001b[0m\n\u001b[0;32m    408\u001b[0m                 \u001b[0mobserved\u001b[0m\u001b[1;33m=\u001b[0m\u001b[0mobserved\u001b[0m\u001b[1;33m,\u001b[0m\u001b[1;33m\u001b[0m\u001b[1;33m\u001b[0m\u001b[0m\n\u001b[1;32m--> 409\u001b[1;33m                 \u001b[0mmutated\u001b[0m\u001b[1;33m=\u001b[0m\u001b[0mself\u001b[0m\u001b[1;33m.\u001b[0m\u001b[0mmutated\u001b[0m\u001b[1;33m,\u001b[0m\u001b[1;33m\u001b[0m\u001b[1;33m\u001b[0m\u001b[0m\n\u001b[0m\u001b[0;32m    410\u001b[0m             )\n\u001b[0;32m    411\u001b[0m \u001b[1;33m\u001b[0m\u001b[0m\n",
      "\u001b[1;32mC:\\Anaconda3\\lib\\site-packages\\pandas\\core\\groupby\\grouper.py\u001b[0m in \u001b[0;36mget_grouper\u001b[1;34m(obj, key, axis, level, sort, observed, mutated, validate)\u001b[0m\n\u001b[0;32m    596\u001b[0m                 \u001b[0min_axis\u001b[0m\u001b[1;33m,\u001b[0m \u001b[0mname\u001b[0m\u001b[1;33m,\u001b[0m \u001b[0mlevel\u001b[0m\u001b[1;33m,\u001b[0m \u001b[0mgpr\u001b[0m \u001b[1;33m=\u001b[0m \u001b[1;32mFalse\u001b[0m\u001b[1;33m,\u001b[0m \u001b[1;32mNone\u001b[0m\u001b[1;33m,\u001b[0m \u001b[0mgpr\u001b[0m\u001b[1;33m,\u001b[0m \u001b[1;32mNone\u001b[0m\u001b[1;33m\u001b[0m\u001b[1;33m\u001b[0m\u001b[0m\n\u001b[0;32m    597\u001b[0m             \u001b[1;32melse\u001b[0m\u001b[1;33m:\u001b[0m\u001b[1;33m\u001b[0m\u001b[1;33m\u001b[0m\u001b[0m\n\u001b[1;32m--> 598\u001b[1;33m                 \u001b[1;32mraise\u001b[0m \u001b[0mKeyError\u001b[0m\u001b[1;33m(\u001b[0m\u001b[0mgpr\u001b[0m\u001b[1;33m)\u001b[0m\u001b[1;33m\u001b[0m\u001b[1;33m\u001b[0m\u001b[0m\n\u001b[0m\u001b[0;32m    599\u001b[0m         \u001b[1;32melif\u001b[0m \u001b[0misinstance\u001b[0m\u001b[1;33m(\u001b[0m\u001b[0mgpr\u001b[0m\u001b[1;33m,\u001b[0m \u001b[0mGrouper\u001b[0m\u001b[1;33m)\u001b[0m \u001b[1;32mand\u001b[0m \u001b[0mgpr\u001b[0m\u001b[1;33m.\u001b[0m\u001b[0mkey\u001b[0m \u001b[1;32mis\u001b[0m \u001b[1;32mnot\u001b[0m \u001b[1;32mNone\u001b[0m\u001b[1;33m:\u001b[0m\u001b[1;33m\u001b[0m\u001b[1;33m\u001b[0m\u001b[0m\n\u001b[0;32m    600\u001b[0m             \u001b[1;31m# Add key to exclusions\u001b[0m\u001b[1;33m\u001b[0m\u001b[1;33m\u001b[0m\u001b[1;33m\u001b[0m\u001b[0m\n",
      "\u001b[1;31mKeyError\u001b[0m: 'stage'"
     ]
    }
   ],
   "source": [
    "df_merged_mRNA.groupby('stage').median()"
   ]
  },
  {
   "cell_type": "code",
   "execution_count": null,
   "metadata": {},
   "outputs": [],
   "source": []
  }
 ],
 "metadata": {
  "kernelspec": {
   "display_name": "Python 3",
   "language": "python",
   "name": "python3"
  },
  "language_info": {
   "codemirror_mode": {
    "name": "ipython",
    "version": 3
   },
   "file_extension": ".py",
   "mimetype": "text/x-python",
   "name": "python",
   "nbconvert_exporter": "python",
   "pygments_lexer": "ipython3",
   "version": "3.7.6"
  }
 },
 "nbformat": 4,
 "nbformat_minor": 4
}
